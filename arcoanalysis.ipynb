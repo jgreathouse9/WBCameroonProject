{
 "cells": [
  {
   "cell_type": "code",
   "execution_count": null,
   "id": "383525f9",
   "metadata": {
    "lines_to_next_cell": 1
   },
   "outputs": [],
   "source": [
    "import pandas as pd\n",
    "from pathlib import Path\n",
    "from mlsynth import FDID"
   ]
  },
  {
   "cell_type": "code",
   "execution_count": null,
   "id": "304ebd3d",
   "metadata": {
    "lines_to_next_cell": 1
   },
   "outputs": [],
   "source": [
    "def run_fdid_batch(directory: Path = Path.cwd()) -> dict:\n",
    "    \"\"\"\n",
    "    Loads all CSVs from a directory, filters and reformats the data,\n",
    "    then runs FDID on each 'ntl*' outcome variable in each file.\n",
    "\n",
    "    Returns:\n",
    "        dict: A dictionary of FDID model results keyed by filename and outcome name.\n",
    "    \"\"\"\n",
    "\n",
    "    def load_and_filter_csvs(directory: Path) -> list[tuple[str, pd.DataFrame]]:\n",
    "        def parse_quarter_date(qstr):\n",
    "            year, quarter = qstr.split(\"_Q\")\n",
    "            month = (int(quarter) - 1) * 3 + 1\n",
    "            return pd.to_datetime(f\"{year}-{month:02d}-01\")\n",
    "\n",
    "        processed = []\n",
    "        for file in directory.glob(\"*.csv\"):\n",
    "            df = pd.read_csv(file)\n",
    "\n",
    "            if \"date\" not in df.columns:\n",
    "                continue\n",
    "\n",
    "            df[\"date\"] = df[\"date\"].apply(parse_quarter_date)\n",
    "\n",
    "            keep_cols = [\"date\"] + \\\n",
    "                        [col for col in df.columns if col.startswith(\"ntl\")] + \\\n",
    "                        [col for col in [\"treated\", \"fullname\"] if col in df.columns]\n",
    "\n",
    "            processed.append((file.stem, df[keep_cols]))\n",
    "\n",
    "        return processed\n",
    "\n",
    "    # Load and prepare data\n",
    "    named_dfs = load_and_filter_csvs(directory)\n",
    "\n",
    "    # Run FDID models\n",
    "    results = {}\n",
    "\n",
    "    for filename, df in named_dfs:\n",
    "        outcome_cols = [col for col in df.columns if col.startswith(\"ntl\")]\n",
    "\n",
    "        for outcome_col in outcome_cols:\n",
    "            config = {\n",
    "                \"df\": df,\n",
    "                \"outcome\": outcome_col,\n",
    "                \"treat\": \"treated\",\n",
    "                \"unitid\": \"fullname\",\n",
    "                \"time\": \"date\",\n",
    "                \"display_graphs\": False,\n",
    "                \"save\": False,\n",
    "                \"counterfactual_color\": [\"red\", \"blue\"],\n",
    "            }\n",
    "\n",
    "            key = f\"{filename}_{outcome_col}\"\n",
    "            results[key] = FDID(config).fit()\n",
    "\n",
    "    return results"
   ]
  },
  {
   "cell_type": "code",
   "execution_count": null,
   "id": "b5d92b2c",
   "metadata": {
    "lines_to_next_cell": 1
   },
   "outputs": [],
   "source": [
    "results = run_fdid_batch(Path.cwd())"
   ]
  },
  {
   "cell_type": "code",
   "execution_count": null,
   "id": "72256bbd",
   "metadata": {},
   "outputs": [],
   "source": [
    "def dump_results_to_text(results: dict, output_file: str = \"fdid_did_outputs.txt\") -> None:\n",
    "    \"\"\"\n",
    "    Dump FDID and DID result summaries from a results dictionary to a text file.\n",
    "\n",
    "    Parameters:\n",
    "        results (dict): The dictionary of fitted FDID models.\n",
    "        output_file (str): The name of the output text file.\n",
    "    \"\"\"\n",
    "    with open(output_file, \"w\", encoding=\"utf-8\") as f:\n",
    "        for key, models in results.items():\n",
    "            f.write(f\"\\n===== Results for {key} =====\\n\")\n",
    "\n",
    "            # FDID\n",
    "            f.write(\"\\n--- FDID ---\\n\")\n",
    "            fdid_model = models[0]\n",
    "            for section in [\"Effects\", \"Fit\", \"Inference\", \"Weights\"]:\n",
    "                if section in fdid_model.raw_results:\n",
    "                    f.write(f\"\\n[{section}]\\n\")\n",
    "                    f.write(f\"{fdid_model.raw_results[section]}\\n\")\n",
    "\n",
    "            # DID\n",
    "            f.write(\"\\n--- DID ---\\n\")\n",
    "            did_model = models[1]\n",
    "            for section in [\"Effects\", \"Fit\", \"Inference\"]:  # no Weights\n",
    "                if section in did_model.raw_results:\n",
    "                    f.write(f\"\\n[{section}]\\n\")\n",
    "                    f.write(f\"{did_model.raw_results[section]}\\n\")\n",
    "\n",
    "            f.write(\"\\n\" + \"=\"*50 + \"\\n\")"
   ]
  },
  {
   "cell_type": "code",
   "execution_count": null,
   "id": "40ccdceb",
   "metadata": {},
   "outputs": [],
   "source": [
    "dump_results_to_text(results, \"fdid_summary_output.txt\")"
   ]
  }
 ],
 "metadata": {
  "jupytext": {
   "cell_metadata_filter": "-all",
   "main_language": "python",
   "notebook_metadata_filter": "-all"
  }
 },
 "nbformat": 4,
 "nbformat_minor": 5
}
